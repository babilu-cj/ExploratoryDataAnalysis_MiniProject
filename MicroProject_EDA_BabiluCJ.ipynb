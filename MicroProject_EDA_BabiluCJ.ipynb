{
 "cells": [
  {
   "cell_type": "markdown",
   "metadata": {},
   "source": [
    "<h1>Exploratory Data Analysis Mini Project </h1>"
   ]
  },
  {
   "cell_type": "code",
   "execution_count": 1,
   "metadata": {},
   "outputs": [],
   "source": [
    "import numpy as np\n",
    "import pandas as pd\n",
    "import seaborn as sns\n",
    "import matplotlib.pyplot as plt\n",
    "plt.rcParams[\"figure.figsize\"]=[15,6]\n",
    "pd.set_option(\"display.max_columns\",None)\n",
    "\n",
    "import warnings\n",
    "warnings.filterwarnings(\"ignore\")"
   ]
  },
  {
   "cell_type": "markdown",
   "metadata": {},
   "source": [
    "#### DESCRIPTIVE STATISTICS"
   ]
  },
  {
   "cell_type": "markdown",
   "metadata": {},
   "source": [
    "###### Q. Create a dataframe using below data and answer the below questions"
   ]
  },
  {
   "cell_type": "markdown",
   "metadata": {},
   "source": [
    "Hourly_Income = [1000,2009,24418,444478,324235,243242,3434234,7567457,9235,238237,1312,3412]<br>\n",
    "Hourly_Expense =  [651361,217371,2746,2356,13436,5732,346346,3463,1132,23534,242235,235235]<br>\n",
    "Family_members_count = [3,4,2,3,1,4,5,6,3,6,3,5]<br>\n",
    "House_rent = [1299,2300,3411,3422,4566,4211,4600,736,672,0,734,2374]<br>\n",
    "Highest_income_Member = [\"Olivia\",\"George\",\"Isla\",\"Harry\",\"Ava\",\"Noah\",\"Sophia\",\"Jacobi\",\"Freddie\",\"Ella\",\"Grace\",\"Ella\"]<br>"
   ]
  },
  {
   "cell_type": "code",
   "execution_count": 2,
   "metadata": {},
   "outputs": [],
   "source": [
    "Hourly_Income = [1000,2009,24418,444478,324235,243242,3434234,7567457,9235,238237,1312,3412]\n",
    "Hourly_Expense =  [651361,217371,2746,2356,13436,5732,346346,3463,1132,23534,242235,235235]\n",
    "Family_members_count = [3,4,2,3,1,4,5,6,3,6,3,5]\n",
    "House_rent = [1299,2300,3411,3422,4566,4211,4600,736,672,0,734,2374]\n",
    "Highest_income_Member = [\"Olivia\",\"George\",\"Isla\",\"Harry\",\"Ava\",\"Noah\",\"Sophia\",\"Jacobi\",\"Freddie\",\"Ella\",\"Grace\",\"Ella\"]"
   ]
  },
  {
   "cell_type": "code",
   "execution_count": 3,
   "metadata": {},
   "outputs": [
    {
     "data": {
      "text/html": [
       "<div>\n",
       "<style scoped>\n",
       "    .dataframe tbody tr th:only-of-type {\n",
       "        vertical-align: middle;\n",
       "    }\n",
       "\n",
       "    .dataframe tbody tr th {\n",
       "        vertical-align: top;\n",
       "    }\n",
       "\n",
       "    .dataframe thead th {\n",
       "        text-align: right;\n",
       "    }\n",
       "</style>\n",
       "<table border=\"1\" class=\"dataframe\">\n",
       "  <thead>\n",
       "    <tr style=\"text-align: right;\">\n",
       "      <th></th>\n",
       "      <th>Hourly_income</th>\n",
       "      <th>Hourly_Expense</th>\n",
       "      <th>Family_members_count</th>\n",
       "      <th>House_rent</th>\n",
       "      <th>Highest_income_Member</th>\n",
       "    </tr>\n",
       "  </thead>\n",
       "  <tbody>\n",
       "    <tr>\n",
       "      <th>0</th>\n",
       "      <td>1000</td>\n",
       "      <td>651361</td>\n",
       "      <td>3</td>\n",
       "      <td>1299</td>\n",
       "      <td>Olivia</td>\n",
       "    </tr>\n",
       "    <tr>\n",
       "      <th>1</th>\n",
       "      <td>2009</td>\n",
       "      <td>217371</td>\n",
       "      <td>4</td>\n",
       "      <td>2300</td>\n",
       "      <td>George</td>\n",
       "    </tr>\n",
       "    <tr>\n",
       "      <th>2</th>\n",
       "      <td>24418</td>\n",
       "      <td>2746</td>\n",
       "      <td>2</td>\n",
       "      <td>3411</td>\n",
       "      <td>Isla</td>\n",
       "    </tr>\n",
       "    <tr>\n",
       "      <th>3</th>\n",
       "      <td>444478</td>\n",
       "      <td>2356</td>\n",
       "      <td>3</td>\n",
       "      <td>3422</td>\n",
       "      <td>Harry</td>\n",
       "    </tr>\n",
       "    <tr>\n",
       "      <th>4</th>\n",
       "      <td>324235</td>\n",
       "      <td>13436</td>\n",
       "      <td>1</td>\n",
       "      <td>4566</td>\n",
       "      <td>Ava</td>\n",
       "    </tr>\n",
       "  </tbody>\n",
       "</table>\n",
       "</div>"
      ],
      "text/plain": [
       "   Hourly_income  Hourly_Expense  Family_members_count  House_rent  \\\n",
       "0           1000          651361                     3        1299   \n",
       "1           2009          217371                     4        2300   \n",
       "2          24418            2746                     2        3411   \n",
       "3         444478            2356                     3        3422   \n",
       "4         324235           13436                     1        4566   \n",
       "\n",
       "  Highest_income_Member  \n",
       "0                Olivia  \n",
       "1                George  \n",
       "2                  Isla  \n",
       "3                 Harry  \n",
       "4                   Ava  "
      ]
     },
     "execution_count": 3,
     "metadata": {},
     "output_type": "execute_result"
    }
   ],
   "source": [
    "data=pd.DataFrame({\n",
    "    \"Hourly_income\":Hourly_Income,\n",
    "    \"Hourly_Expense\":Hourly_Expense,\n",
    "    \"Family_members_count\":Family_members_count,\n",
    "    \"House_rent\":House_rent,\n",
    "    \"Highest_income_Member\":Highest_income_Member\n",
    "})\n",
    "data.head()"
   ]
  },
  {
   "cell_type": "markdown",
   "metadata": {},
   "source": [
    "###### Q. Display the five point summary of the data"
   ]
  },
  {
   "cell_type": "code",
   "execution_count": 4,
   "metadata": {},
   "outputs": [
    {
     "data": {
      "text/html": [
       "<div>\n",
       "<style scoped>\n",
       "    .dataframe tbody tr th:only-of-type {\n",
       "        vertical-align: middle;\n",
       "    }\n",
       "\n",
       "    .dataframe tbody tr th {\n",
       "        vertical-align: top;\n",
       "    }\n",
       "\n",
       "    .dataframe thead th {\n",
       "        text-align: right;\n",
       "    }\n",
       "</style>\n",
       "<table border=\"1\" class=\"dataframe\">\n",
       "  <thead>\n",
       "    <tr style=\"text-align: right;\">\n",
       "      <th></th>\n",
       "      <th>Hourly_income</th>\n",
       "      <th>Hourly_Expense</th>\n",
       "      <th>Family_members_count</th>\n",
       "      <th>House_rent</th>\n",
       "    </tr>\n",
       "  </thead>\n",
       "  <tbody>\n",
       "    <tr>\n",
       "      <th>count</th>\n",
       "      <td>1.200000e+01</td>\n",
       "      <td>12.000000</td>\n",
       "      <td>12.000000</td>\n",
       "      <td>12.000000</td>\n",
       "    </tr>\n",
       "    <tr>\n",
       "      <th>mean</th>\n",
       "      <td>1.024439e+06</td>\n",
       "      <td>145412.250000</td>\n",
       "      <td>3.750000</td>\n",
       "      <td>2360.416667</td>\n",
       "    </tr>\n",
       "    <tr>\n",
       "      <th>std</th>\n",
       "      <td>2.274083e+06</td>\n",
       "      <td>202831.565333</td>\n",
       "      <td>1.544786</td>\n",
       "      <td>1661.663813</td>\n",
       "    </tr>\n",
       "    <tr>\n",
       "      <th>min</th>\n",
       "      <td>1.000000e+03</td>\n",
       "      <td>1132.000000</td>\n",
       "      <td>1.000000</td>\n",
       "      <td>0.000000</td>\n",
       "    </tr>\n",
       "    <tr>\n",
       "      <th>25%</th>\n",
       "      <td>3.061250e+03</td>\n",
       "      <td>3283.750000</td>\n",
       "      <td>3.000000</td>\n",
       "      <td>735.500000</td>\n",
       "    </tr>\n",
       "    <tr>\n",
       "      <th>50%</th>\n",
       "      <td>1.313275e+05</td>\n",
       "      <td>18485.000000</td>\n",
       "      <td>3.500000</td>\n",
       "      <td>2337.000000</td>\n",
       "    </tr>\n",
       "    <tr>\n",
       "      <th>75%</th>\n",
       "      <td>3.542958e+05</td>\n",
       "      <td>236985.000000</td>\n",
       "      <td>5.000000</td>\n",
       "      <td>3619.250000</td>\n",
       "    </tr>\n",
       "    <tr>\n",
       "      <th>max</th>\n",
       "      <td>7.567457e+06</td>\n",
       "      <td>651361.000000</td>\n",
       "      <td>6.000000</td>\n",
       "      <td>4600.000000</td>\n",
       "    </tr>\n",
       "  </tbody>\n",
       "</table>\n",
       "</div>"
      ],
      "text/plain": [
       "       Hourly_income  Hourly_Expense  Family_members_count   House_rent\n",
       "count   1.200000e+01       12.000000             12.000000    12.000000\n",
       "mean    1.024439e+06   145412.250000              3.750000  2360.416667\n",
       "std     2.274083e+06   202831.565333              1.544786  1661.663813\n",
       "min     1.000000e+03     1132.000000              1.000000     0.000000\n",
       "25%     3.061250e+03     3283.750000              3.000000   735.500000\n",
       "50%     1.313275e+05    18485.000000              3.500000  2337.000000\n",
       "75%     3.542958e+05   236985.000000              5.000000  3619.250000\n",
       "max     7.567457e+06   651361.000000              6.000000  4600.000000"
      ]
     },
     "execution_count": 4,
     "metadata": {},
     "output_type": "execute_result"
    }
   ],
   "source": [
    "data.describe()"
   ]
  },
  {
   "cell_type": "markdown",
   "metadata": {},
   "source": [
    "<b>Take-away</b><br>\n",
    "The five point summary of the data (Minimum value, 25th percentile, Median, 75th percentile, Maximum value) and other informations are given above"
   ]
  },
  {
   "cell_type": "markdown",
   "metadata": {},
   "source": [
    "###### Q. What is the mean of the hourly expense?"
   ]
  },
  {
   "cell_type": "code",
   "execution_count": 5,
   "metadata": {},
   "outputs": [
    {
     "data": {
      "text/plain": [
       "145412.25"
      ]
     },
     "execution_count": 5,
     "metadata": {},
     "output_type": "execute_result"
    }
   ],
   "source": [
    "data.Hourly_Expense.mean()"
   ]
  },
  {
   "cell_type": "markdown",
   "metadata": {},
   "source": [
    "###### Q. What is the median of the hourly expense?\n"
   ]
  },
  {
   "cell_type": "code",
   "execution_count": 6,
   "metadata": {},
   "outputs": [
    {
     "data": {
      "text/plain": [
       "18485.0"
      ]
     },
     "execution_count": 6,
     "metadata": {},
     "output_type": "execute_result"
    }
   ],
   "source": [
    "data.Hourly_Expense.median()"
   ]
  },
  {
   "cell_type": "markdown",
   "metadata": {},
   "source": [
    "###### Q. Find the family member with maximum income and using a suitable graph."
   ]
  },
  {
   "cell_type": "code",
   "execution_count": 7,
   "metadata": {},
   "outputs": [
    {
     "data": {
      "image/png": "[encoded data removed]",
      "text/plain": [
       "<Figure size 1080x432 with 1 Axes>"
      ]
     },
     "metadata": {
      "needs_background": "light"
     },
     "output_type": "display_data"
    }
   ],
   "source": [
    "sns.barplot(data=data.sort_values(\"Hourly_income\",ascending=False),x=\"Highest_income_Member\",y=\"Hourly_income\");"
   ]
  },
  {
   "cell_type": "markdown",
   "metadata": {},
   "source": [
    "###### Q. Calculate IQR(the difference between 75% and 25% quartile) for `Hourly_Income` and `Hourly_Expense`."
   ]
  },
  {
   "cell_type": "code",
   "execution_count": 8,
   "metadata": {},
   "outputs": [],
   "source": [
    "hinc_q1=data.Hourly_income.quantile(0.75)\n",
    "hinc_q3=data.Hourly_income.quantile(0.25)\n",
    "hinc_iqr=hinc_q1-hinc_q3\n",
    "\n",
    "hexp_q1=data.Hourly_Expense.quantile(0.75)\n",
    "hexp_q3=data.Hourly_Expense.quantile(0.25)\n",
    "hexp_iqr=hexp_q1-hexp_q3"
   ]
  },
  {
   "cell_type": "code",
   "execution_count": 9,
   "metadata": {},
   "outputs": [
    {
     "name": "stdout",
     "output_type": "stream",
     "text": [
      "IQR for Hourly Income:  351234.5 \n",
      "IQR for Hourly Expense: 233701.25\n"
     ]
    }
   ],
   "source": [
    "print(\"IQR for Hourly Income: {:>9} \\nIQR for Hourly Expense: {}\".format(hinc_iqr,hexp_iqr))"
   ]
  },
  {
   "cell_type": "markdown",
   "metadata": {},
   "source": [
    "###### Q. Calculate the standard deviation for first 2 columns."
   ]
  },
  {
   "cell_type": "code",
   "execution_count": 10,
   "metadata": {},
   "outputs": [
    {
     "data": {
      "text/plain": [
       "Hourly_income     2.274083e+06\n",
       "Hourly_Expense    2.028316e+05\n",
       "dtype: float64"
      ]
     },
     "execution_count": 10,
     "metadata": {},
     "output_type": "execute_result"
    }
   ],
   "source": [
    "data.std()[:2]"
   ]
  },
  {
   "cell_type": "markdown",
   "metadata": {},
   "source": [
    "###### Q. Calculate variance for the first 4 columns"
   ]
  },
  {
   "cell_type": "code",
   "execution_count": 11,
   "metadata": {},
   "outputs": [
    {
     "data": {
      "text/plain": [
       "Hourly_income           5.171452e+12\n",
       "Hourly_Expense          4.114064e+10\n",
       "Family_members_count    2.386364e+00\n",
       "House_rent              2.761127e+06\n",
       "dtype: float64"
      ]
     },
     "execution_count": 11,
     "metadata": {},
     "output_type": "execute_result"
    }
   ],
   "source": [
    "data.var()"
   ]
  },
  {
   "cell_type": "markdown",
   "metadata": {},
   "source": [
    "#### Preliminary Wrangling"
   ]
  },
  {
   "cell_type": "markdown",
   "metadata": {},
   "source": [
    "<b>Dataset Information</b><br>\n",
    "\n",
    "Dataset recording people to invest in each other in a way that is financially and socially rewarding. On loans, borrowers list loan requests between $ 2,000 and $ 35,000 and individual investors invest as little as $ 25 in each loan listing they select. Prosper handles the servicing of the loan on behalf of the matched borrowers and investors."
   ]
  },
  {
   "cell_type": "markdown",
   "metadata": {},
   "source": [
    "###### Q. Read the dataset called Pri-Load.csv"
   ]
  },
  {
   "cell_type": "code",
   "execution_count": 12,
   "metadata": {},
   "outputs": [
    {
     "data": {
      "text/html": [
       "<div>\n",
       "<style scoped>\n",
       "    .dataframe tbody tr th:only-of-type {\n",
       "        vertical-align: middle;\n",
       "    }\n",
       "\n",
       "    .dataframe tbody tr th {\n",
       "        vertical-align: top;\n",
       "    }\n",
       "\n",
       "    .dataframe thead th {\n",
       "        text-align: right;\n",
       "    }\n",
       "</style>\n",
       "<table border=\"1\" class=\"dataframe\">\n",
       "  <thead>\n",
       "    <tr style=\"text-align: right;\">\n",
       "      <th></th>\n",
       "      <th>ListingCreationDate</th>\n",
       "      <th>Term</th>\n",
       "      <th>LoanStatus</th>\n",
       "      <th>ClosedDate</th>\n",
       "      <th>BorrowerAPR</th>\n",
       "      <th>BorrowerRate</th>\n",
       "      <th>LenderYield</th>\n",
       "      <th>ProsperRating (Alpha)</th>\n",
       "      <th>ProsperScore</th>\n",
       "      <th>ListingCategory (numeric)</th>\n",
       "      <th>BorrowerState</th>\n",
       "      <th>Occupation</th>\n",
       "      <th>EmploymentStatus</th>\n",
       "      <th>AmountDelinquent</th>\n",
       "      <th>StatedMonthlyIncome</th>\n",
       "      <th>LoanCurrentDaysDelinquent</th>\n",
       "      <th>LoanOriginalAmount</th>\n",
       "      <th>LoanOriginationDate</th>\n",
       "      <th>LoanOriginationQuarter</th>\n",
       "      <th>MonthlyLoanPayment</th>\n",
       "      <th>LP_InterestandFees</th>\n",
       "      <th>Investors</th>\n",
       "    </tr>\n",
       "  </thead>\n",
       "  <tbody>\n",
       "    <tr>\n",
       "      <th>0</th>\n",
       "      <td>2007-08-26 19:09:29.263000000</td>\n",
       "      <td>36</td>\n",
       "      <td>Completed</td>\n",
       "      <td>14-08-2009 0.00</td>\n",
       "      <td>0.16516</td>\n",
       "      <td>0.1580</td>\n",
       "      <td>0.1380</td>\n",
       "      <td>NaN</td>\n",
       "      <td>NaN</td>\n",
       "      <td>0</td>\n",
       "      <td>CO</td>\n",
       "      <td>Other</td>\n",
       "      <td>Self-employed</td>\n",
       "      <td>472.0</td>\n",
       "      <td>3083.333333</td>\n",
       "      <td>0</td>\n",
       "      <td>9425</td>\n",
       "      <td>12-09-2007 0.00</td>\n",
       "      <td>Q3 2007</td>\n",
       "      <td>330.43</td>\n",
       "      <td>1971.14</td>\n",
       "      <td>258</td>\n",
       "    </tr>\n",
       "    <tr>\n",
       "      <th>1</th>\n",
       "      <td>2014-02-27 08:28:07.900000000</td>\n",
       "      <td>36</td>\n",
       "      <td>Current</td>\n",
       "      <td>NaN</td>\n",
       "      <td>0.12016</td>\n",
       "      <td>0.0920</td>\n",
       "      <td>0.0820</td>\n",
       "      <td>A</td>\n",
       "      <td>7.0</td>\n",
       "      <td>2</td>\n",
       "      <td>CO</td>\n",
       "      <td>Professional</td>\n",
       "      <td>Employed</td>\n",
       "      <td>0.0</td>\n",
       "      <td>6125.000000</td>\n",
       "      <td>0</td>\n",
       "      <td>10000</td>\n",
       "      <td>03-03-2014 0.00</td>\n",
       "      <td>Q1 2014</td>\n",
       "      <td>318.93</td>\n",
       "      <td>0.00</td>\n",
       "      <td>1</td>\n",
       "    </tr>\n",
       "    <tr>\n",
       "      <th>2</th>\n",
       "      <td>2007-01-05 15:00:47.090000000</td>\n",
       "      <td>36</td>\n",
       "      <td>Completed</td>\n",
       "      <td>17-12-2009 0.00</td>\n",
       "      <td>0.28269</td>\n",
       "      <td>0.2750</td>\n",
       "      <td>0.2400</td>\n",
       "      <td>NaN</td>\n",
       "      <td>NaN</td>\n",
       "      <td>0</td>\n",
       "      <td>GA</td>\n",
       "      <td>Other</td>\n",
       "      <td>Not available</td>\n",
       "      <td>NaN</td>\n",
       "      <td>2083.333333</td>\n",
       "      <td>0</td>\n",
       "      <td>3001</td>\n",
       "      <td>17-01-2007 0.00</td>\n",
       "      <td>Q1 2007</td>\n",
       "      <td>123.32</td>\n",
       "      <td>1185.63</td>\n",
       "      <td>41</td>\n",
       "    </tr>\n",
       "    <tr>\n",
       "      <th>3</th>\n",
       "      <td>2012-10-22 11:02:35.010000000</td>\n",
       "      <td>36</td>\n",
       "      <td>Current</td>\n",
       "      <td>NaN</td>\n",
       "      <td>0.12528</td>\n",
       "      <td>0.0974</td>\n",
       "      <td>0.0874</td>\n",
       "      <td>A</td>\n",
       "      <td>9.0</td>\n",
       "      <td>16</td>\n",
       "      <td>GA</td>\n",
       "      <td>Skilled Labor</td>\n",
       "      <td>Employed</td>\n",
       "      <td>10056.0</td>\n",
       "      <td>2875.000000</td>\n",
       "      <td>0</td>\n",
       "      <td>10000</td>\n",
       "      <td>01-11-2012 0.00</td>\n",
       "      <td>Q4 2012</td>\n",
       "      <td>321.45</td>\n",
       "      <td>1052.11</td>\n",
       "      <td>158</td>\n",
       "    </tr>\n",
       "    <tr>\n",
       "      <th>4</th>\n",
       "      <td>2013-09-14 18:38:39.097000000</td>\n",
       "      <td>36</td>\n",
       "      <td>Current</td>\n",
       "      <td>NaN</td>\n",
       "      <td>0.24614</td>\n",
       "      <td>0.2085</td>\n",
       "      <td>0.1985</td>\n",
       "      <td>D</td>\n",
       "      <td>4.0</td>\n",
       "      <td>2</td>\n",
       "      <td>MN</td>\n",
       "      <td>Executive</td>\n",
       "      <td>Employed</td>\n",
       "      <td>0.0</td>\n",
       "      <td>9583.333333</td>\n",
       "      <td>0</td>\n",
       "      <td>15000</td>\n",
       "      <td>20-09-2013 0.00</td>\n",
       "      <td>Q3 2013</td>\n",
       "      <td>563.97</td>\n",
       "      <td>1256.63</td>\n",
       "      <td>20</td>\n",
       "    </tr>\n",
       "  </tbody>\n",
       "</table>\n",
       "</div>"
      ],
      "text/plain": [
       "             ListingCreationDate  Term LoanStatus       ClosedDate  \\\n",
       "0  2007-08-26 19:09:29.263000000    36  Completed  14-08-2009 0.00   \n",
       "1  2014-02-27 08:28:07.900000000    36    Current              NaN   \n",
       "2  2007-01-05 15:00:47.090000000    36  Completed  17-12-2009 0.00   \n",
       "3  2012-10-22 11:02:35.010000000    36    Current              NaN   \n",
       "4  2013-09-14 18:38:39.097000000    36    Current              NaN   \n",
       "\n",
       "   BorrowerAPR  BorrowerRate  LenderYield ProsperRating (Alpha)  ProsperScore  \\\n",
       "0      0.16516        0.1580       0.1380                   NaN           NaN   \n",
       "1      0.12016        0.0920       0.0820                     A           7.0   \n",
       "2      0.28269        0.2750       0.2400                   NaN           NaN   \n",
       "3      0.12528        0.0974       0.0874                     A           9.0   \n",
       "4      0.24614        0.2085       0.1985                     D           4.0   \n",
       "\n",
       "   ListingCategory (numeric) BorrowerState     Occupation EmploymentStatus  \\\n",
       "0                          0            CO          Other    Self-employed   \n",
       "1                          2            CO   Professional         Employed   \n",
       "2                          0            GA          Other    Not available   \n",
       "3                         16            GA  Skilled Labor         Employed   \n",
       "4                          2            MN      Executive         Employed   \n",
       "\n",
       "   AmountDelinquent  StatedMonthlyIncome  LoanCurrentDaysDelinquent  \\\n",
       "0             472.0          3083.333333                          0   \n",
       "1               0.0          6125.000000                          0   \n",
       "2               NaN          2083.333333                          0   \n",
       "3           10056.0          2875.000000                          0   \n",
       "4               0.0          9583.333333                          0   \n",
       "\n",
       "   LoanOriginalAmount LoanOriginationDate LoanOriginationQuarter  \\\n",
       "0                9425     12-09-2007 0.00                Q3 2007   \n",
       "1               10000     03-03-2014 0.00                Q1 2014   \n",
       "2                3001     17-01-2007 0.00                Q1 2007   \n",
       "3               10000     01-11-2012 0.00                Q4 2012   \n",
       "4               15000     20-09-2013 0.00                Q3 2013   \n",
       "\n",
       "   MonthlyLoanPayment  LP_InterestandFees  Investors  \n",
       "0              330.43             1971.14        258  \n",
       "1              318.93                0.00          1  \n",
       "2              123.32             1185.63         41  \n",
       "3              321.45             1052.11        158  \n",
       "4              563.97             1256.63         20  "
      ]
     },
     "execution_count": 12,
     "metadata": {},
     "output_type": "execute_result"
    }
   ],
   "source": [
    "data=pd.read_csv(\"Pri-Load.csv\")\n",
    "data.head()"
   ]
  },
  {
   "cell_type": "code",
   "execution_count": 13,
   "metadata": {},
   "outputs": [
    {
     "data": {
      "text/plain": [
       "(1035, 22)"
      ]
     },
     "execution_count": 13,
     "metadata": {},
     "output_type": "execute_result"
    }
   ],
   "source": [
    "data.shape"
   ]
  },
  {
   "cell_type": "markdown",
   "metadata": {},
   "source": [
    "###### Q. Check the data type and adjust datatype for all other categorical columns"
   ]
  },
  {
   "cell_type": "code",
   "execution_count": 14,
   "metadata": {},
   "outputs": [
    {
     "data": {
      "text/plain": [
       "ListingCreationDate           object\n",
       "Term                           int64\n",
       "LoanStatus                    object\n",
       "ClosedDate                    object\n",
       "BorrowerAPR                  float64\n",
       "BorrowerRate                 float64\n",
       "LenderYield                  float64\n",
       "ProsperRating (Alpha)         object\n",
       "ProsperScore                 float64\n",
       "ListingCategory (numeric)      int64\n",
       "BorrowerState                 object\n",
       "Occupation                    object\n",
       "EmploymentStatus              object\n",
       "AmountDelinquent             float64\n",
       "StatedMonthlyIncome          float64\n",
       "LoanCurrentDaysDelinquent      int64\n",
       "LoanOriginalAmount             int64\n",
       "LoanOriginationDate           object\n",
       "LoanOriginationQuarter        object\n",
       "MonthlyLoanPayment           float64\n",
       "LP_InterestandFees           float64\n",
       "Investors                      int64\n",
       "dtype: object"
      ]
     },
     "execution_count": 14,
     "metadata": {},
     "output_type": "execute_result"
    }
   ],
   "source": [
    "data.dtypes"
   ]
  },
  {
   "cell_type": "markdown",
   "metadata": {},
   "source": [
    "###### Q. If you find any of the missing values in the ProsperRating column, then drop it"
   ]
  },
  {
   "cell_type": "code",
   "execution_count": 15,
   "metadata": {},
   "outputs": [],
   "source": [
    "data.dropna(subset=[\"ProsperRating (Alpha)\"],inplace=True)"
   ]
  },
  {
   "cell_type": "code",
   "execution_count": 16,
   "metadata": {},
   "outputs": [
    {
     "data": {
      "text/plain": [
       "0"
      ]
     },
     "execution_count": 16,
     "metadata": {},
     "output_type": "execute_result"
    }
   ],
   "source": [
    "data[\"ProsperRating (Alpha)\"].isnull().sum()"
   ]
  },
  {
   "cell_type": "markdown",
   "metadata": {},
   "source": [
    "#### Univariate Analysis"
   ]
  },
  {
   "cell_type": "markdown",
   "metadata": {},
   "source": [
    "###### Q. What are the main features of interest in your dataset"
   ]
  },
  {
   "cell_type": "code",
   "execution_count": 17,
   "metadata": {},
   "outputs": [
    {
     "data": {
      "image/png": "[encoded data removed]",
      "text/plain": [
       "<Figure size 1080x432 with 1 Axes>"
      ]
     },
     "metadata": {
      "needs_background": "light"
     },
     "output_type": "display_data"
    }
   ],
   "source": [
    "data.LoanStatus.value_counts().plot(kind=\"bar\")\n",
    "# sns.countplot(data=data,y=\"LoanStatus\")\n",
    "plt.show()"
   ]
  },
  {
   "cell_type": "markdown",
   "metadata": {},
   "source": [
    "<b>Take-away</b><br>\n",
    "Across the loan requests, the majority are still under the status 'Current', followed by the 'Completed' loan requests"
   ]
  },
  {
   "cell_type": "code",
   "execution_count": 18,
   "metadata": {},
   "outputs": [
    {
     "data": {
      "image/png": "[encoded data removed]",
      "text/plain": [
       "<Figure size 1080x432 with 1 Axes>"
      ]
     },
     "metadata": {
      "needs_background": "light"
     },
     "output_type": "display_data"
    }
   ],
   "source": [
    "sns.distplot(data.LoanOriginalAmount);"
   ]
  },
  {
   "cell_type": "markdown",
   "metadata": {},
   "source": [
    "<b>Take-away</b><br>\n",
    "1. The Loan Amount is right skewed\n",
    "2. The most frequest Loan Amount falls under 5,000/-"
   ]
  },
  {
   "cell_type": "code",
   "execution_count": 19,
   "metadata": {},
   "outputs": [
    {
     "data": {
      "image/png": "[encoded data removed]",
      "text/plain": [
       "<Figure size 1080x432 with 1 Axes>"
      ]
     },
     "metadata": {
      "needs_background": "light"
     },
     "output_type": "display_data"
    }
   ],
   "source": [
    "data.MonthlyLoanPayment.plot(kind=\"box\");"
   ]
  },
  {
   "cell_type": "markdown",
   "metadata": {},
   "source": [
    "<b>Take-away</b><br>\n",
    "1. Similar to the Loan Amount, the feature Monthly Loan Payment is also noticebly right skewed\n",
    "2. The 50% of the data falls roughly around 200/- denoting presence of heavy outliers"
   ]
  },
  {
   "cell_type": "markdown",
   "metadata": {},
   "source": [
    "#### Bivariate Anlaysis"
   ]
  },
  {
   "cell_type": "markdown",
   "metadata": {},
   "source": [
    "###### Q. Check the correlation matrix for all numeric variables. Maintain the Strong positive and Negative correlations columns"
   ]
  },
  {
   "cell_type": "code",
   "execution_count": 20,
   "metadata": {},
   "outputs": [
    {
     "data": {
      "text/html": [
       "<div>\n",
       "<style scoped>\n",
       "    .dataframe tbody tr th:only-of-type {\n",
       "        vertical-align: middle;\n",
       "    }\n",
       "\n",
       "    .dataframe tbody tr th {\n",
       "        vertical-align: top;\n",
       "    }\n",
       "\n",
       "    .dataframe thead th {\n",
       "        text-align: right;\n",
       "    }\n",
       "</style>\n",
       "<table border=\"1\" class=\"dataframe\">\n",
       "  <thead>\n",
       "    <tr style=\"text-align: right;\">\n",
       "      <th></th>\n",
       "      <th>Term</th>\n",
       "      <th>BorrowerAPR</th>\n",
       "      <th>BorrowerRate</th>\n",
       "      <th>LenderYield</th>\n",
       "      <th>ProsperScore</th>\n",
       "      <th>ListingCategory (numeric)</th>\n",
       "      <th>AmountDelinquent</th>\n",
       "      <th>StatedMonthlyIncome</th>\n",
       "      <th>LoanCurrentDaysDelinquent</th>\n",
       "      <th>LoanOriginalAmount</th>\n",
       "      <th>MonthlyLoanPayment</th>\n",
       "      <th>LP_InterestandFees</th>\n",
       "      <th>Investors</th>\n",
       "    </tr>\n",
       "  </thead>\n",
       "  <tbody>\n",
       "    <tr>\n",
       "      <th>Term</th>\n",
       "      <td>1.000000</td>\n",
       "      <td>-0.114773</td>\n",
       "      <td>-0.051395</td>\n",
       "      <td>-0.051395</td>\n",
       "      <td>0.090518</td>\n",
       "      <td>-0.108346</td>\n",
       "      <td>-0.066580</td>\n",
       "      <td>0.075713</td>\n",
       "      <td>-0.090192</td>\n",
       "      <td>0.363728</td>\n",
       "      <td>0.075655</td>\n",
       "      <td>0.166858</td>\n",
       "      <td>-0.030132</td>\n",
       "    </tr>\n",
       "    <tr>\n",
       "      <th>BorrowerAPR</th>\n",
       "      <td>-0.114773</td>\n",
       "      <td>1.000000</td>\n",
       "      <td>0.993566</td>\n",
       "      <td>0.993566</td>\n",
       "      <td>-0.640320</td>\n",
       "      <td>0.158519</td>\n",
       "      <td>0.005908</td>\n",
       "      <td>-0.252639</td>\n",
       "      <td>0.227554</td>\n",
       "      <td>-0.422646</td>\n",
       "      <td>-0.312658</td>\n",
       "      <td>0.230707</td>\n",
       "      <td>-0.234232</td>\n",
       "    </tr>\n",
       "    <tr>\n",
       "      <th>BorrowerRate</th>\n",
       "      <td>-0.051395</td>\n",
       "      <td>0.993566</td>\n",
       "      <td>1.000000</td>\n",
       "      <td>1.000000</td>\n",
       "      <td>-0.619934</td>\n",
       "      <td>0.148140</td>\n",
       "      <td>-0.003389</td>\n",
       "      <td>-0.254265</td>\n",
       "      <td>0.238240</td>\n",
       "      <td>-0.412322</td>\n",
       "      <td>-0.322830</td>\n",
       "      <td>0.257639</td>\n",
       "      <td>-0.214173</td>\n",
       "    </tr>\n",
       "    <tr>\n",
       "      <th>LenderYield</th>\n",
       "      <td>-0.051395</td>\n",
       "      <td>0.993566</td>\n",
       "      <td>1.000000</td>\n",
       "      <td>1.000000</td>\n",
       "      <td>-0.619934</td>\n",
       "      <td>0.148140</td>\n",
       "      <td>-0.003389</td>\n",
       "      <td>-0.254265</td>\n",
       "      <td>0.238240</td>\n",
       "      <td>-0.412322</td>\n",
       "      <td>-0.322830</td>\n",
       "      <td>0.257639</td>\n",
       "      <td>-0.214173</td>\n",
       "    </tr>\n",
       "    <tr>\n",
       "      <th>ProsperScore</th>\n",
       "      <td>0.090518</td>\n",
       "      <td>-0.640320</td>\n",
       "      <td>-0.619934</td>\n",
       "      <td>-0.619934</td>\n",
       "      <td>1.000000</td>\n",
       "      <td>-0.041906</td>\n",
       "      <td>-0.062707</td>\n",
       "      <td>0.199536</td>\n",
       "      <td>-0.072170</td>\n",
       "      <td>0.245904</td>\n",
       "      <td>0.144268</td>\n",
       "      <td>0.016248</td>\n",
       "      <td>0.311131</td>\n",
       "    </tr>\n",
       "    <tr>\n",
       "      <th>ListingCategory (numeric)</th>\n",
       "      <td>-0.108346</td>\n",
       "      <td>0.158519</td>\n",
       "      <td>0.148140</td>\n",
       "      <td>0.148140</td>\n",
       "      <td>-0.041906</td>\n",
       "      <td>1.000000</td>\n",
       "      <td>0.076968</td>\n",
       "      <td>-0.082321</td>\n",
       "      <td>0.010424</td>\n",
       "      <td>-0.229170</td>\n",
       "      <td>-0.206464</td>\n",
       "      <td>0.031386</td>\n",
       "      <td>-0.033180</td>\n",
       "    </tr>\n",
       "    <tr>\n",
       "      <th>AmountDelinquent</th>\n",
       "      <td>-0.066580</td>\n",
       "      <td>0.005908</td>\n",
       "      <td>-0.003389</td>\n",
       "      <td>-0.003389</td>\n",
       "      <td>-0.062707</td>\n",
       "      <td>0.076968</td>\n",
       "      <td>1.000000</td>\n",
       "      <td>-0.017033</td>\n",
       "      <td>-0.005276</td>\n",
       "      <td>-0.071448</td>\n",
       "      <td>-0.062087</td>\n",
       "      <td>-0.056868</td>\n",
       "      <td>-0.045042</td>\n",
       "    </tr>\n",
       "    <tr>\n",
       "      <th>StatedMonthlyIncome</th>\n",
       "      <td>0.075713</td>\n",
       "      <td>-0.252639</td>\n",
       "      <td>-0.254265</td>\n",
       "      <td>-0.254265</td>\n",
       "      <td>0.199536</td>\n",
       "      <td>-0.082321</td>\n",
       "      <td>-0.017033</td>\n",
       "      <td>1.000000</td>\n",
       "      <td>-0.098607</td>\n",
       "      <td>0.418816</td>\n",
       "      <td>0.396892</td>\n",
       "      <td>0.108826</td>\n",
       "      <td>0.088789</td>\n",
       "    </tr>\n",
       "    <tr>\n",
       "      <th>LoanCurrentDaysDelinquent</th>\n",
       "      <td>-0.090192</td>\n",
       "      <td>0.227554</td>\n",
       "      <td>0.238240</td>\n",
       "      <td>0.238240</td>\n",
       "      <td>-0.072170</td>\n",
       "      <td>0.010424</td>\n",
       "      <td>-0.005276</td>\n",
       "      <td>-0.098607</td>\n",
       "      <td>1.000000</td>\n",
       "      <td>-0.136783</td>\n",
       "      <td>-0.101961</td>\n",
       "      <td>-0.029949</td>\n",
       "      <td>0.041179</td>\n",
       "    </tr>\n",
       "    <tr>\n",
       "      <th>LoanOriginalAmount</th>\n",
       "      <td>0.363728</td>\n",
       "      <td>-0.422646</td>\n",
       "      <td>-0.412322</td>\n",
       "      <td>-0.412322</td>\n",
       "      <td>0.245904</td>\n",
       "      <td>-0.229170</td>\n",
       "      <td>-0.071448</td>\n",
       "      <td>0.418816</td>\n",
       "      <td>-0.136783</td>\n",
       "      <td>1.000000</td>\n",
       "      <td>0.924229</td>\n",
       "      <td>0.269348</td>\n",
       "      <td>0.298321</td>\n",
       "    </tr>\n",
       "    <tr>\n",
       "      <th>MonthlyLoanPayment</th>\n",
       "      <td>0.075655</td>\n",
       "      <td>-0.312658</td>\n",
       "      <td>-0.322830</td>\n",
       "      <td>-0.322830</td>\n",
       "      <td>0.144268</td>\n",
       "      <td>-0.206464</td>\n",
       "      <td>-0.062087</td>\n",
       "      <td>0.396892</td>\n",
       "      <td>-0.101961</td>\n",
       "      <td>0.924229</td>\n",
       "      <td>1.000000</td>\n",
       "      <td>0.291726</td>\n",
       "      <td>0.286374</td>\n",
       "    </tr>\n",
       "    <tr>\n",
       "      <th>LP_InterestandFees</th>\n",
       "      <td>0.166858</td>\n",
       "      <td>0.230707</td>\n",
       "      <td>0.257639</td>\n",
       "      <td>0.257639</td>\n",
       "      <td>0.016248</td>\n",
       "      <td>0.031386</td>\n",
       "      <td>-0.056868</td>\n",
       "      <td>0.108826</td>\n",
       "      <td>-0.029949</td>\n",
       "      <td>0.269348</td>\n",
       "      <td>0.291726</td>\n",
       "      <td>1.000000</td>\n",
       "      <td>0.358959</td>\n",
       "    </tr>\n",
       "    <tr>\n",
       "      <th>Investors</th>\n",
       "      <td>-0.030132</td>\n",
       "      <td>-0.234232</td>\n",
       "      <td>-0.214173</td>\n",
       "      <td>-0.214173</td>\n",
       "      <td>0.311131</td>\n",
       "      <td>-0.033180</td>\n",
       "      <td>-0.045042</td>\n",
       "      <td>0.088789</td>\n",
       "      <td>0.041179</td>\n",
       "      <td>0.298321</td>\n",
       "      <td>0.286374</td>\n",
       "      <td>0.358959</td>\n",
       "      <td>1.000000</td>\n",
       "    </tr>\n",
       "  </tbody>\n",
       "</table>\n",
       "</div>"
      ],
      "text/plain": [
       "                               Term  BorrowerAPR  BorrowerRate  LenderYield  \\\n",
       "Term                       1.000000    -0.114773     -0.051395    -0.051395   \n",
       "BorrowerAPR               -0.114773     1.000000      0.993566     0.993566   \n",
       "BorrowerRate              -0.051395     0.993566      1.000000     1.000000   \n",
       "LenderYield               -0.051395     0.993566      1.000000     1.000000   \n",
       "ProsperScore               0.090518    -0.640320     -0.619934    -0.619934   \n",
       "ListingCategory (numeric) -0.108346     0.158519      0.148140     0.148140   \n",
       "AmountDelinquent          -0.066580     0.005908     -0.003389    -0.003389   \n",
       "StatedMonthlyIncome        0.075713    -0.252639     -0.254265    -0.254265   \n",
       "LoanCurrentDaysDelinquent -0.090192     0.227554      0.238240     0.238240   \n",
       "LoanOriginalAmount         0.363728    -0.422646     -0.412322    -0.412322   \n",
       "MonthlyLoanPayment         0.075655    -0.312658     -0.322830    -0.322830   \n",
       "LP_InterestandFees         0.166858     0.230707      0.257639     0.257639   \n",
       "Investors                 -0.030132    -0.234232     -0.214173    -0.214173   \n",
       "\n",
       "                           ProsperScore  ListingCategory (numeric)  \\\n",
       "Term                           0.090518                  -0.108346   \n",
       "BorrowerAPR                   -0.640320                   0.158519   \n",
       "BorrowerRate                  -0.619934                   0.148140   \n",
       "LenderYield                   -0.619934                   0.148140   \n",
       "ProsperScore                   1.000000                  -0.041906   \n",
       "ListingCategory (numeric)     -0.041906                   1.000000   \n",
       "AmountDelinquent              -0.062707                   0.076968   \n",
       "StatedMonthlyIncome            0.199536                  -0.082321   \n",
       "LoanCurrentDaysDelinquent     -0.072170                   0.010424   \n",
       "LoanOriginalAmount             0.245904                  -0.229170   \n",
       "MonthlyLoanPayment             0.144268                  -0.206464   \n",
       "LP_InterestandFees             0.016248                   0.031386   \n",
       "Investors                      0.311131                  -0.033180   \n",
       "\n",
       "                           AmountDelinquent  StatedMonthlyIncome  \\\n",
       "Term                              -0.066580             0.075713   \n",
       "BorrowerAPR                        0.005908            -0.252639   \n",
       "BorrowerRate                      -0.003389            -0.254265   \n",
       "LenderYield                       -0.003389            -0.254265   \n",
       "ProsperScore                      -0.062707             0.199536   \n",
       "ListingCategory (numeric)          0.076968            -0.082321   \n",
       "AmountDelinquent                   1.000000            -0.017033   \n",
       "StatedMonthlyIncome               -0.017033             1.000000   \n",
       "LoanCurrentDaysDelinquent         -0.005276            -0.098607   \n",
       "LoanOriginalAmount                -0.071448             0.418816   \n",
       "MonthlyLoanPayment                -0.062087             0.396892   \n",
       "LP_InterestandFees                -0.056868             0.108826   \n",
       "Investors                         -0.045042             0.088789   \n",
       "\n",
       "                           LoanCurrentDaysDelinquent  LoanOriginalAmount  \\\n",
       "Term                                       -0.090192            0.363728   \n",
       "BorrowerAPR                                 0.227554           -0.422646   \n",
       "BorrowerRate                                0.238240           -0.412322   \n",
       "LenderYield                                 0.238240           -0.412322   \n",
       "ProsperScore                               -0.072170            0.245904   \n",
       "ListingCategory (numeric)                   0.010424           -0.229170   \n",
       "AmountDelinquent                           -0.005276           -0.071448   \n",
       "StatedMonthlyIncome                        -0.098607            0.418816   \n",
       "LoanCurrentDaysDelinquent                   1.000000           -0.136783   \n",
       "LoanOriginalAmount                         -0.136783            1.000000   \n",
       "MonthlyLoanPayment                         -0.101961            0.924229   \n",
       "LP_InterestandFees                         -0.029949            0.269348   \n",
       "Investors                                   0.041179            0.298321   \n",
       "\n",
       "                           MonthlyLoanPayment  LP_InterestandFees  Investors  \n",
       "Term                                 0.075655            0.166858  -0.030132  \n",
       "BorrowerAPR                         -0.312658            0.230707  -0.234232  \n",
       "BorrowerRate                        -0.322830            0.257639  -0.214173  \n",
       "LenderYield                         -0.322830            0.257639  -0.214173  \n",
       "ProsperScore                         0.144268            0.016248   0.311131  \n",
       "ListingCategory (numeric)           -0.206464            0.031386  -0.033180  \n",
       "AmountDelinquent                    -0.062087           -0.056868  -0.045042  \n",
       "StatedMonthlyIncome                  0.396892            0.108826   0.088789  \n",
       "LoanCurrentDaysDelinquent           -0.101961           -0.029949   0.041179  \n",
       "LoanOriginalAmount                   0.924229            0.269348   0.298321  \n",
       "MonthlyLoanPayment                   1.000000            0.291726   0.286374  \n",
       "LP_InterestandFees                   0.291726            1.000000   0.358959  \n",
       "Investors                            0.286374            0.358959   1.000000  "
      ]
     },
     "execution_count": 20,
     "metadata": {},
     "output_type": "execute_result"
    }
   ],
   "source": [
    "data.corr()"
   ]
  },
  {
   "cell_type": "code",
   "execution_count": 21,
   "metadata": {},
   "outputs": [
    {
     "data": {
      "text/plain": [
       "<AxesSubplot:>"
      ]
     },
     "execution_count": 21,
     "metadata": {},
     "output_type": "execute_result"
    },
    {
     "data": {
      "image/png": "[encoded data removed]",
      "text/plain": [
       "<Figure size 1080x432 with 2 Axes>"
      ]
     },
     "metadata": {
      "needs_background": "light"
     },
     "output_type": "display_data"
    }
   ],
   "source": [
    "sns.heatmap(data.corr())"
   ]
  },
  {
   "cell_type": "markdown",
   "metadata": {},
   "source": [
    "<b>Take-away</b><br>\n",
    "1. There is strong positive correlation between the features 'BorrowerAPR', 'BorrowerRate' and 'LenderYield'\n",
    "2. A strong negative correlation can be observed for 'ProsperScore' with 'BorrowerAPR', 'BorrowerRate' & 'LenderYield'"
   ]
  },
  {
   "cell_type": "markdown",
   "metadata": {},
   "source": [
    "###### Q. Check the relation between `LoanOriginalAmount` and `BorrowerAPR` columns"
   ]
  },
  {
   "cell_type": "code",
   "execution_count": 22,
   "metadata": {},
   "outputs": [
    {
     "data": {
      "image/png": "[encoded data removed]",
      "text/plain": [
       "<Figure size 1080x432 with 3 Axes>"
      ]
     },
     "metadata": {
      "needs_background": "light"
     },
     "output_type": "display_data"
    }
   ],
   "source": [
    "plt.subplot(1,2,1)\n",
    "plt.title(\"Scatter Plot: 'LoanOriginalANlount' vs 'BorrowerAPR'\",pad=15)\n",
    "sns.scatterplot(data.LoanOriginalAmount,data.BorrowerAPR)\n",
    "\n",
    "plt.subplot(1,2,2)\n",
    "plt.title(\"Correlation Matrix: 'LoanOriginalANlount' vs 'BorrowerAPR'\",pad=15)\n",
    "sns.heatmap(data[['LoanOriginalAmount','BorrowerAPR']].corr(),annot=True,cmap='Blues')\n",
    "\n",
    "plt.show()"
   ]
  },
  {
   "cell_type": "markdown",
   "metadata": {},
   "source": [
    "<b>Take-away</b><br>\n",
    "1. A negative correlation can be observed between the said features\n",
    "2. From the scatter plot it is noticable that, as the LoanOriginalAmount increases the 'BorrowerAOR' decreases\n",
    "3. However, the observed correlation isn't a strong one"
   ]
  },
  {
   "cell_type": "markdown",
   "metadata": {},
   "source": [
    "###### Q. Display the seperate box plot for `y = BorrowerAPR`  with x1 = `LoanStatus`, x2 = `EmploymentStatus` columns.Write your observations"
   ]
  },
  {
   "cell_type": "code",
   "execution_count": 23,
   "metadata": {},
   "outputs": [
    {
     "data": {
      "image/png": "[encoded data removed]",
      "text/plain": [
       "<Figure size 1440x720 with 2 Axes>"
      ]
     },
     "metadata": {
      "needs_background": "light"
     },
     "output_type": "display_data"
    }
   ],
   "source": [
    "plt.figure(figsize=(20,10))\n",
    "\n",
    "plt.subplot(2,1,1)\n",
    "sns.boxplot(data.LoanStatus,data.BorrowerAPR)\n",
    "\n",
    "plt.subplot(2,1,2)\n",
    "sns.boxplot(data.EmploymentStatus,data.BorrowerAPR)\n",
    "\n",
    "plt.show()"
   ]
  },
  {
   "cell_type": "markdown",
   "metadata": {},
   "source": [
    "<b>Take-away</b><br>\n",
    "1. For BorrowerAPR vs LoanStatus, the class 'Completed' has got the highest and the lowest value\n",
    "2. For BorrowerAPR vs EmploymentStatus, the class 'Self-EMployed' has got the highest value and the class 'Employed' has the lowest BorrowerAPR value"
   ]
  },
  {
   "cell_type": "markdown",
   "metadata": {},
   "source": [
    "#### Multi Variate Analysis & Feature Engineering"
   ]
  },
  {
   "cell_type": "markdown",
   "metadata": {},
   "source": [
    "###### Q. Write a program\n",
    "\n",
    "Step 1: Create a  condition on 'LoanStatus' to reduce the class labels to binary classification\n",
    "\n",
    "Step 2: Create a user define function  using condition and `LoanStatus` column\n",
    "\n",
    "Step 3: Print unique class label counts"
   ]
  },
  {
   "cell_type": "code",
   "execution_count": 24,
   "metadata": {},
   "outputs": [
    {
     "data": {
      "text/plain": [
       "Current                  544\n",
       "Completed                168\n",
       "Chargedoff                48\n",
       "Defaulted                 11\n",
       "Past Due (1-15 days)       5\n",
       "Past Due (61-90 days)      4\n",
       "Past Due (16-30 days)      2\n",
       "Past Due (31-60 days)      1\n",
       "Name: LoanStatus, dtype: int64"
      ]
     },
     "execution_count": 24,
     "metadata": {},
     "output_type": "execute_result"
    }
   ],
   "source": [
    "data.LoanStatus.value_counts()"
   ]
  },
  {
   "cell_type": "markdown",
   "metadata": {},
   "source": [
    "Note: Inorder to convert the multi class labels to binary, categories 'Current' and 'Completed' are grouped together as 'Class C' and the rest as 'Class D'"
   ]
  },
  {
   "cell_type": "code",
   "execution_count": 25,
   "metadata": {},
   "outputs": [],
   "source": [
    "def conv_loanstatus(val):\n",
    "    if val=='Current' or val=='Completed':\n",
    "        return 'Class C'\n",
    "    else:\n",
    "        return 'Class D'\n",
    "    \n",
    "data[\"LoanStatus_Binary\"]=data[\"LoanStatus\"].apply(conv_loanstatus)"
   ]
  },
  {
   "cell_type": "code",
   "execution_count": 26,
   "metadata": {},
   "outputs": [
    {
     "data": {
      "text/plain": [
       "Class C    712\n",
       "Class D     71\n",
       "Name: LoanStatus_Binary, dtype: int64"
      ]
     },
     "execution_count": 26,
     "metadata": {},
     "output_type": "execute_result"
    }
   ],
   "source": [
    "data.LoanStatus_Binary.value_counts()"
   ]
  },
  {
   "cell_type": "markdown",
   "metadata": {},
   "source": [
    "###### Q. Write a program\n",
    "Create a user define function to give `ListingCategory (numeric)` column meaningful class labels. Categories can be found below: \n",
    "\n",
    "1: 'Debt Consolidation', 2: 'Home Improvement', 3: 'Business', 6: 'Auto', 7: 'Other'"
   ]
  },
  {
   "cell_type": "code",
   "execution_count": 27,
   "metadata": {},
   "outputs": [
    {
     "data": {
      "text/plain": [
       "1     483\n",
       "7      80\n",
       "2      68\n",
       "3      41\n",
       "6      22\n",
       "13     21\n",
       "15     17\n",
       "18     16\n",
       "14      9\n",
       "19      8\n",
       "20      6\n",
       "11      4\n",
       "16      3\n",
       "8       2\n",
       "9       2\n",
       "17      1\n",
       "Name: ListingCategory (numeric), dtype: int64"
      ]
     },
     "execution_count": 27,
     "metadata": {},
     "output_type": "execute_result"
    }
   ],
   "source": [
    "data[\"ListingCategory (numeric)\"].value_counts()"
   ]
  },
  {
   "cell_type": "code",
   "execution_count": 28,
   "metadata": {},
   "outputs": [],
   "source": [
    "categories={1: 'Debt Consolidation', 2: 'Home Improvement', 3: 'Business', 6: 'Auto', 7: 'Other'}\n",
    "\n",
    "data[\"ListingCategory\"]=data[\"ListingCategory (numeric)\"].map(categories)"
   ]
  },
  {
   "cell_type": "code",
   "execution_count": 29,
   "metadata": {},
   "outputs": [
    {
     "data": {
      "text/plain": [
       "Debt Consolidation    483\n",
       "Other                  80\n",
       "Home Improvement       68\n",
       "Business               41\n",
       "Auto                   22\n",
       "Name: ListingCategory, dtype: int64"
      ]
     },
     "execution_count": 29,
     "metadata": {},
     "output_type": "execute_result"
    }
   ],
   "source": [
    "data[\"ListingCategory\"].value_counts()"
   ]
  },
  {
   "cell_type": "code",
   "execution_count": 30,
   "metadata": {},
   "outputs": [
    {
     "data": {
      "text/plain": [
       "89"
      ]
     },
     "execution_count": 30,
     "metadata": {},
     "output_type": "execute_result"
    }
   ],
   "source": [
    "# However there are null values\n",
    "data.ListingCategory.isnull().sum()"
   ]
  },
  {
   "cell_type": "markdown",
   "metadata": {},
   "source": [
    "###### Q. Display the box plot for `ProsperRating (Alpha)` vs `LoanOriginalAmount` and hue = `Loan Status`. Write your observations"
   ]
  },
  {
   "cell_type": "code",
   "execution_count": 31,
   "metadata": {},
   "outputs": [
    {
     "data": {
      "image/png": "[encoded data removed]",
      "text/plain": [
       "<Figure size 1080x432 with 1 Axes>"
      ]
     },
     "metadata": {
      "needs_background": "light"
     },
     "output_type": "display_data"
    }
   ],
   "source": [
    "sns.boxplot(data=data,x=\"ProsperRating (Alpha)\",y=\"LoanOriginalAmount\",hue=\"LoanStatus_Binary\");"
   ]
  },
  {
   "cell_type": "markdown",
   "metadata": {},
   "source": [
    "<b>Take-away</b><br>\n",
    "1. Outliers are present in almost all ProsperRating categories for both categories of LoanStatus\n",
    "2. An almost similar median is observed for the category 'E' of ProsperRating\n",
    "3. The higher values observed belong to the 'Class C' of LoanStatus"
   ]
  },
  {
   "cell_type": "markdown",
   "metadata": {},
   "source": [
    "###### Q. Display the catplot for `ProsperRating (Alpha)` vs `ListingCategory`and hue = `Loan Status`. Write your observations."
   ]
  },
  {
   "cell_type": "code",
   "execution_count": 32,
   "metadata": {},
   "outputs": [
    {
     "data": {
      "image/png": "[encoded data removed]",
      "text/plain": [
       "<Figure size 460.875x360 with 1 Axes>"
      ]
     },
     "metadata": {
      "needs_background": "light"
     },
     "output_type": "display_data"
    }
   ],
   "source": [
    "sns.catplot(data=data[~(data[\"ListingCategory\"].isnull())],x=\"ProsperRating (Alpha)\",y=\"ListingCategory\",hue=\"LoanStatus_Binary\");"
   ]
  },
  {
   "cell_type": "markdown",
   "metadata": {},
   "source": [
    "<b>Take-away</b><br>\n",
    "1. Most of the values in prosperrating categories and listing category have loanstatus value as completed\n",
    "2. There are only a very few instance under the LoanStatus category 'Class D' in the Listing category 'Debt Consolidation'"
   ]
  }
 ],
 "metadata": {
  "kernelspec": {
   "display_name": "Python 3",
   "language": "python",
   "name": "python3"
  },
  "language_info": {
   "codemirror_mode": {
    "name": "ipython",
    "version": 3
   },
   "file_extension": ".py",
   "mimetype": "text/x-python",
   "name": "python",
   "nbconvert_exporter": "python",
   "pygments_lexer": "ipython3",
   "version": "3.8.8"
  }
 },
 "nbformat": 4,
 "nbformat_minor": 4
}
